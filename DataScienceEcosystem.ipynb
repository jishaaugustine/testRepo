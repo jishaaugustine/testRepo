{
 "cells": [
  {
   "cell_type": "markdown",
   "id": "aeb78fe5",
   "metadata": {},
   "source": [
    "# Data Science Tools and Ecosystem"
   ]
  },
  {
   "cell_type": "markdown",
   "id": "6de4b79c",
   "metadata": {},
   "source": [
    "In this notebook, Data Science Tools and Ecosystem are summarized."
   ]
  },
  {
   "cell_type": "markdown",
   "id": "603a8178",
   "metadata": {},
   "source": [
    "__Objectives:__\n",
    "- List of popular languages used\n",
    "- List of libraries used\n",
    "- List of tools\n",
    "- Arithmetic operations"
   ]
  },
  {
   "cell_type": "markdown",
   "id": "886e18e9",
   "metadata": {},
   "source": [
    "Some of the popular languages that Data Scientists use are:\n",
    "    \n",
    "1. Python\n",
    "2. R\n",
    "3. Scala\n",
    "4. Java"
   ]
  },
  {
   "cell_type": "markdown",
   "id": "70f7f5f9",
   "metadata": {},
   "source": [
    "Some of the commonly used libraries used by Data Scientists include:\n",
    "\n",
    "1. Scikit-learn\n",
    "2. keras\n",
    "3. Tensorflow\n",
    "4. Numpy\n",
    "5. Pandas"
   ]
  },
  {
   "cell_type": "markdown",
   "id": "8018c30c",
   "metadata": {},
   "source": [
    "|Data Science Tools|\n",
    "|------------------|\n",
    "|mySQL|\n",
    "|Apache AirFlow|\n",
    "|ModelDB|\n",
    "|GitHub|\n",
    "|Kylo|\n"
   ]
  },
  {
   "cell_type": "markdown",
   "id": "c89cbee0",
   "metadata": {},
   "source": [
    "### Below are a few examples of evaluating arithmetic expressions in Python"
   ]
  },
  {
   "cell_type": "code",
   "execution_count": 3,
   "id": "c527e82a",
   "metadata": {},
   "outputs": [
    {
     "name": "stdout",
     "output_type": "stream",
     "text": [
      "5\n",
      "60\n",
      "11\n",
      "5.0\n"
     ]
    }
   ],
   "source": [
    "print(3+2)\n",
    "print(12*5)\n",
    "print(17-6)\n",
    "print(25/5)"
   ]
  },
  {
   "cell_type": "code",
   "execution_count": 4,
   "id": "49c1972e",
   "metadata": {},
   "outputs": [
    {
     "data": {
      "text/plain": [
       "17"
      ]
     },
     "execution_count": 4,
     "metadata": {},
     "output_type": "execute_result"
    }
   ],
   "source": [
    "#This a simple arithmetic expression to mutiply then add integers\n",
    "(3*4)+5"
   ]
  },
  {
   "cell_type": "code",
   "execution_count": 5,
   "id": "b035133e",
   "metadata": {},
   "outputs": [
    {
     "name": "stdout",
     "output_type": "stream",
     "text": [
      "3.3333333333333335\n"
     ]
    }
   ],
   "source": [
    "#This will convert 200 minutes to hours by diving by 60\n",
    "minutes=200\n",
    "hours=minutes/60\n",
    "print(hours)"
   ]
  },
  {
   "cell_type": "markdown",
   "id": "dd355093",
   "metadata": {},
   "source": [
    "## Author \n",
    "Jisha Augustine"
   ]
  }
 ],
 "metadata": {
  "kernelspec": {
   "display_name": "Python 3 (ipykernel)",
   "language": "python",
   "name": "python3"
  },
  "language_info": {
   "codemirror_mode": {
    "name": "ipython",
    "version": 3
   },
   "file_extension": ".py",
   "mimetype": "text/x-python",
   "name": "python",
   "nbconvert_exporter": "python",
   "pygments_lexer": "ipython3",
   "version": "3.11.4"
  }
 },
 "nbformat": 4,
 "nbformat_minor": 5
}
